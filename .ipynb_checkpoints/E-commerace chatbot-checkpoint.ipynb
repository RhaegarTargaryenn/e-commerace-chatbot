{
 "cells": [
  {
   "cell_type": "code",
   "execution_count": 4,
   "id": "045749ea",
   "metadata": {},
   "outputs": [
    {
     "name": "stdout",
     "output_type": "stream",
     "text": [
      "\n"
     ]
    }
   ],
   "source": [
    "import pandas as pd\n",
    "import requests\n",
    "from bs4 import BeautifulSoup\n",
    "\n",
    "# Function to extract article text from URL\n",
    "def extract_article_text(url):\n",
    "    try:\n",
    "        # Fetch the HTML content of the URL\n",
    "        response = requests.get(url)\n",
    "        response.raise_for_status()  # Raise an exception for invalid response codes\n",
    "        html_content = response.text\n",
    "        \n",
    "        # Parse the HTML content using BeautifulSoup\n",
    "        soup = BeautifulSoup(html_content, 'html.parser')\n",
    "        \n",
    "        # Find and extract the article text (excluding headers, footers, etc.)\n",
    "        # You need to customize this part based on the structure of the website\n",
    "        article_text = \"\"\n",
    "        # Example:\n",
    "        # article_text = soup.find('div', class_='article-content').get_text()\n",
    "        \n",
    "        return article_text\n",
    "    except Exception as e:\n",
    "        print(f\"Error extracting text from {url}: {str(e)}\")\n",
    "        return None\n",
    "\n",
    "# Test the function\n",
    "url = \"https://insights.blackcoffer.com/rising-it-cities-and-its-impact-on-the-economy-environment-infrastructure-and-city-life-by-the-year-2040-2/\"  # Replace with an actual URL from input.xlsx\n",
    "article_text = extract_article_text(url)\n",
    "print(article_text)\n"
   ]
  }
 ],
 "metadata": {
  "kernelspec": {
   "display_name": "Python 3 (ipykernel)",
   "language": "python",
   "name": "python3"
  },
  "language_info": {
   "codemirror_mode": {
    "name": "ipython",
    "version": 3
   },
   "file_extension": ".py",
   "mimetype": "text/x-python",
   "name": "python",
   "nbconvert_exporter": "python",
   "pygments_lexer": "ipython3",
   "version": "3.11.5"
  }
 },
 "nbformat": 4,
 "nbformat_minor": 5
}
