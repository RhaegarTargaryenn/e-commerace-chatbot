{
 "cells": [
  {
   "cell_type": "code",
   "execution_count": 1,
   "id": "045749ea",
   "metadata": {},
   "outputs": [],
   "source": [
    "from langchain.llms import GooglePalm\n",
    "\n",
    "api_key = 'your api key' # get this free api key from https://makersuite.google.com/\n",
    "\n",
    "llm = GooglePalm(google_api_key=api_key, temperature=0.1)"
   ]
  },
  {
   "cell_type": "code",
   "execution_count": 2,
   "id": "00cb5220-57a4-4012-99d1-af65d523ea8e",
   "metadata": {},
   "outputs": [
    {
     "name": "stdout",
     "output_type": "stream",
     "text": [
      "**Love for My Parents**\n",
      "\n",
      "I love my parents,\n",
      "They're always there for me.\n",
      "They're my biggest fans,\n",
      "And I'm so lucky to have them.\n"
     ]
    }
   ],
   "source": [
    "poem = llm(\"Write a 4 line poem of my love for  parents\")\n",
    "print(poem)"
   ]
  },
  {
   "cell_type": "code",
   "execution_count": 3,
   "id": "7a3f0e80-ebd4-43d3-b5ef-b89e4b762528",
   "metadata": {},
   "outputs": [],
   "source": [
    "from langchain.chains import RetrievalQA\n",
    "\n",
    "\n",
    "from langchain.embeddings import GooglePalmEmbeddings\n",
    "from langchain.llms import GooglePalm"
   ]
  },
  {
   "cell_type": "markdown",
   "id": "08cc1751-bc59-48d8-9196-eb2fcb9a747f",
   "metadata": {},
   "source": [
    "Now let's load data from E-commerece response csv file"
   ]
  },
  {
   "cell_type": "code",
   "execution_count": 4,
   "id": "9e9baf29-122b-4961-8e9d-39e6a8b77e74",
   "metadata": {},
   "outputs": [],
   "source": [
    "from langchain.document_loaders.csv_loader import CSVLoader\n",
    "\n",
    "# Corrected file path\n",
    "file_path = 'C:/Users/shubham rana/Downloads/data.csv'\n",
    "\n",
    "# Creating an instance of CSVLoader\n",
    "loader = CSVLoader(file_path=file_path, source_column=\"prompt\")\n",
    "\n",
    "# Store the loaded data in the 'data' variable\n",
    "data = loader.load()\n"
   ]
  },
  {
   "cell_type": "code",
   "execution_count": 7,
   "id": "dc7b6fce-a231-4729-8ccd-35f1e95bc916",
   "metadata": {},
   "outputs": [
    {
     "data": {
      "text/plain": [
       "[Document(page_content='prompt: \\'How can I create an account?\\'\\nresponse: \"To create an account click on the \\'Sign Up\\' button on the top right corner of our website and follow the instructions to complete the registration process.\"}', metadata={'source': \" 'How can I create an account?'\", 'row': 0}),\n",
       " Document(page_content=\"prompt: 'What payment methods do you accept?'\\nresponse: 'We accept major credit cards debit cards and PayPal as payment methods for online orders.'}\", metadata={'source': \" 'What payment methods do you accept?'\", 'row': 1}),\n",
       " Document(page_content='prompt: \\'How can I track my order?\\'\\nresponse: \"You can track your order by logging into your account and navigating to the \\'Order History\\' section. There you will find the tracking information for your shipment.\"}', metadata={'source': \" 'How can I track my order?'\", 'row': 2}),\n",
       " Document(page_content=\"prompt: 'What is your return policy?'\\nresponse: 'Our return policy allows you to return products within 30 days of purchase for a full refund provided they are in their original condition and packaging. Please refer to our Returns page for detailed instructions.'}\", metadata={'source': \" 'What is your return policy?'\", 'row': 3}),\n",
       " Document(page_content=\"prompt: 'Can I cancel my order?'\\nresponse: 'You can cancel your order if it has not been shipped yet. Please contact our customer support team with your order details and we will assist you with the cancellation process.'}\", metadata={'source': \" 'Can I cancel my order?'\", 'row': 4}),\n",
       " Document(page_content=\"prompt: 'How long does shipping take?'\\nresponse: 'Shipping times vary depending on the destination and the shipping method chosen. Standard shipping usually takes 3-5 business days while express shipping can take 1-2 business days.'}\", metadata={'source': \" 'How long does shipping take?'\", 'row': 5}),\n",
       " Document(page_content=\"prompt: 'Do you offer international shipping?'\\nresponse: 'Yes we offer international shipping to select countries. The availability and shipping costs will be calculated during the checkout process based on your location.'}\", metadata={'source': \" 'Do you offer international shipping?'\", 'row': 6}),\n",
       " Document(page_content=\"prompt: 'What should I do if my package is lost or damaged?'\\nresponse: 'If your package is lost or damaged during transit please contact our customer support team immediately. We will initiate an investigation and take the necessary steps to resolve the issue.'}\", metadata={'source': \" 'What should I do if my package is lost or damaged?'\", 'row': 7}),\n",
       " Document(page_content=\"prompt: 'Can I change my shipping address after placing an order?'\\nresponse: 'If you need to change your shipping address please contact our customer support team as soon as possible. We will do our best to update the address if the order has not been shipped yet.'}\", metadata={'source': \" 'Can I change my shipping address after placing an order?'\", 'row': 8}),\n",
       " Document(page_content=\"prompt: 'How can I contact customer support?'\\nresponse: 'You can contact our customer support team by phone at [phone number] or by email at [email address]. Our team is available [working hours] to assist you with any inquiries or issues you may have.'}\", metadata={'source': \" 'How can I contact customer support?'\", 'row': 9}),\n",
       " Document(page_content=\"prompt: 'Do you offer gift wrapping services?'\\nresponse: 'Yes we offer gift wrapping services for an additional fee. During the checkout process you can select the option to add gift wrapping to your order.'}\", metadata={'source': \" 'Do you offer gift wrapping services?'\", 'row': 10}),\n",
       " Document(page_content='prompt: \\'What is your price matching policy?\\'\\nresponse: \"We have a price matching policy where we will match the price of an identical product found on a competitor\\'s website. Please contact our customer support team with the details of the product and the competitor\\'s offer.\"}', metadata={'source': \" 'What is your price matching policy?'\", 'row': 11}),\n",
       " Document(page_content=\"prompt: 'Can I order by phone?'\\nresponse: 'Unfortunately we do not accept orders over the phone. Please place your order through our website for a smooth and secure transaction.'}\", metadata={'source': \" 'Can I order by phone?'\", 'row': 12}),\n",
       " Document(page_content=\"prompt: 'Are my personal and payment details secure?'\\nresponse: 'Yes we take the security of your personal and payment details seriously. We use industry-standard encryption and follow strict security protocols to ensure your information is protected.'}\", metadata={'source': \" 'Are my personal and payment details secure?'\", 'row': 13}),\n",
       " Document(page_content=\"prompt: 'What is your price adjustment policy?'\\nresponse: 'If a product you purchased goes on sale within 7 days of your purchase we offer a one-time price adjustment. Please contact our customer support team with your order details to request the adjustment.'}\", metadata={'source': \" 'What is your price adjustment policy?'\", 'row': 14}),\n",
       " Document(page_content=\"prompt: 'Do you have a loyalty program?'\\nresponse: 'Yes we have a loyalty program where you can earn points for every purchase. These points can be redeemed for discounts on future orders. Please visit our website to learn more and join the program.'}\", metadata={'source': \" 'Do you have a loyalty program?'\", 'row': 15}),\n",
       " Document(page_content=\"prompt: 'Can I order without creating an account?'\\nresponse: 'Yes you can place an order as a guest without creating an account. However creating an account offers benefits such as order tracking and easier future purchases.'}\", metadata={'source': \" 'Can I order without creating an account?'\", 'row': 16}),\n",
       " Document(page_content=\"prompt: 'Do you offer bulk or wholesale discounts?'\\nresponse: 'Yes we offer bulk or wholesale discounts for certain products. Please contact our customer support team or visit our Wholesale page for more information and to discuss your specific requirements.'}\", metadata={'source': \" 'Do you offer bulk or wholesale discounts?'\", 'row': 17}),\n",
       " Document(page_content=\"prompt: 'Can I change or cancel an item in my order?'\\nresponse: 'If you need to change or cancel an item in your order please contact our customer support team as soon as possible. We will assist you with the necessary steps.'}\", metadata={'source': \" 'Can I change or cancel an item in my order?'\", 'row': 18}),\n",
       " Document(page_content='prompt: \\'How can I leave a product review?\\'\\nresponse: \"To leave a product review navigate to the product page on our website and click on the \\'Write a Review\\' button. You can share your feedback and rating based on your experience with the product.\"}', metadata={'source': \" 'How can I leave a product review?'\", 'row': 19}),\n",
       " Document(page_content=\"prompt: 'Can I use multiple promo codes on a single order?'\\nresponse: 'Usually only one promo code can be applied per order. During the checkout process enter the promo code in the designated field to apply the discount to your order.'}\", metadata={'source': \" 'Can I use multiple promo codes on a single order?'\", 'row': 20}),\n",
       " Document(page_content=\"prompt: 'What should I do if I receive the wrong item?'\\nresponse: 'If you receive the wrong item in your order please contact our customer support team immediately. We will arrange for the correct item to be shipped to you and assist with returning the wrong item.'}\", metadata={'source': \" 'What should I do if I receive the wrong item?'\", 'row': 21}),\n",
       " Document(page_content=\"prompt: 'Do you offer expedited shipping?'\\nresponse: 'Yes we offer expedited shipping options for faster delivery. During the checkout process you can select the desired expedited shipping method.'}\", metadata={'source': \" 'Do you offer expedited shipping?'\", 'row': 22}),\n",
       " Document(page_content=\"prompt: 'Can I order a product that is out of stock?'\\nresponse: 'If a product is currently out of stock you will usually see an option to sign up for product notifications. This way you will be alerted when the product becomes available again.'}\", metadata={'source': \" 'Can I order a product that is out of stock?'\", 'row': 23}),\n",
       " Document(page_content=\"prompt: 'What is your email newsletter about?'\\nresponse: 'Our email newsletter provides updates on new product releases exclusive offers and helpful tips related to our products. You can subscribe to our newsletter on our website.'}\", metadata={'source': \" 'What is your email newsletter about?'\", 'row': 24}),\n",
       " Document(page_content=\"prompt: 'Can I return a product if I changed my mind?'\\nresponse: 'Yes you can return a product if you changed your mind. Please ensure the product is in its original condition and packaging and refer to our return policy for instructions.'}\", metadata={'source': \" 'Can I return a product if I changed my mind?'\", 'row': 25}),\n",
       " Document(page_content=\"prompt: 'Do you offer live chat support?'\\nresponse: 'Yes we offer live chat support on our website during our business hours. Look for the chat icon in the bottom right corner to initiate a chat with our customer support team.'}\", metadata={'source': \" 'Do you offer live chat support?'\", 'row': 26}),\n",
       " Document(page_content='prompt: \\'Can I order a product as a gift?\\'\\nresponse: \"Yes you can order a product as a gift and have it shipped directly to the recipient. During the checkout process you can enter the recipient\\'s shipping address.\"}', metadata={'source': \" 'Can I order a product as a gift?'\", 'row': 27}),\n",
       " Document(page_content=\"prompt: 'What should I do if my discount code is not working?'\\nresponse: 'If your discount code is not working please double-check the terms and conditions associated with the code. If the issue persists contact our customer support team for assistance.'}\", metadata={'source': \" 'What should I do if my discount code is not working?'\", 'row': 28}),\n",
       " Document(page_content=\"prompt: 'Can I return a product if it was a final sale item?'\\nresponse: 'Final sale items are usually non-returnable and non-refundable. Please review the product description or contact our customer support team to confirm the return eligibility for specific items.'}\", metadata={'source': \" 'Can I return a product if it was a final sale item?'\", 'row': 29}),\n",
       " Document(page_content=\"prompt: 'Do you offer installation services for your products?'\\nresponse: 'Installation services are available for select products. Please check the product description or contact our customer support team for more information and to request installation services.'}\", metadata={'source': \" 'Do you offer installation services for your products?'\", 'row': 30}),\n",
       " Document(page_content=\"prompt: 'Can I order a product that is discontinued?'\\nresponse: 'Discontinued products are no longer available for purchase. We recommend exploring alternative products on our website.'}\", metadata={'source': \" 'Can I order a product that is discontinued?'\", 'row': 31}),\n",
       " Document(page_content=\"prompt: 'Can I return a product without a receipt?'\\nresponse: 'A receipt or proof of purchase is usually required for returns. Please refer to our return policy or contact our customer support team for assistance.'}\", metadata={'source': \" 'Can I return a product without a receipt?'\", 'row': 32}),\n",
       " Document(page_content=\"prompt: 'Can I order a product for delivery to a different country?'\\nresponse: 'Yes we offer international shipping to select countries. Please review the available shipping destinations during checkout or contact our customer support for assistance.'}\", metadata={'source': \" 'Can I order a product for delivery to a different country?'\", 'row': 33}),\n",
       " Document(page_content=\"prompt: 'Can I add a gift message to my order?'\\nresponse: 'Yes you can add a gift message during the checkout process. There is usually a section where you can enter your personalized message.'}\", metadata={'source': \" 'Can I add a gift message to my order?'\", 'row': 34}),\n",
       " Document(page_content=\"prompt: 'Can I request a product demonstration before making a purchase?'\\nresponse: 'We do not currently offer product demonstrations before purchase. However you can find detailed product descriptions specifications\", metadata={'source': \" 'Can I request a product demonstration before making a purchase?'\", 'row': 35}),\n",
       " Document(page_content='prompt: \"Can I order a product that is listed as \\'coming soon\\'?\"\\nresponse: \"Products listed as \\'coming soon\\' are not available for immediate purchase. Please sign up for notifications to be informed when the product becomes available.\"}', metadata={'source': ' \"Can I order a product that is listed as \\'coming soon\\'?\"', 'row': 36}),\n",
       " Document(page_content=\"prompt: 'Can I request an invoice for my order?'\\nresponse: 'Yes an invoice is usually included with your order. If you require a separate invoice please contact our customer support team with your order details.'}\", metadata={'source': \" 'Can I request an invoice for my order?'\", 'row': 37}),\n",
       " Document(page_content='prompt: \"Can I order a product that is labeled as \\'limited edition\\'?\"\\nresponse: \"\\'Limited edition\\' products may have restricted availability. We recommend placing an order as soon as possible to secure your item.\"}', metadata={'source': ' \"Can I order a product that is labeled as \\'limited edition\\'?\"', 'row': 38}),\n",
       " Document(page_content=\"prompt: 'Can I return a product if I no longer have the original packaging?'\\nresponse: 'While returning a product in its original packaging is preferred you can still initiate a return without it. Contact our customer support team for guidance in such cases.'}\", metadata={'source': \" 'Can I return a product if I no longer have the original packaging?'\", 'row': 39}),\n",
       " Document(page_content=\"prompt: 'Can I request a product that is currently out of stock to be reserved for me?'\\nresponse: 'We do not offer reservations for out-of-stock products. However you can sign up for product notifications to be alerted when it becomes available again.'}\", metadata={'source': \" 'Can I request a product that is currently out of stock to be reserved for me?'\", 'row': 40}),\n",
       " Document(page_content='prompt: \"Can I order a product that is listed as \\'pre-order\\' with other in-stock items?\"\\nresponse: \\'Yes you can place an order with a mix of pre-order and in-stock items. However please note that the entire order will be shipped once all items are available.\\'}', metadata={'source': ' \"Can I order a product that is listed as \\'pre-order\\' with other in-stock items?\"', 'row': 41}),\n",
       " Document(page_content=\"prompt: 'Can I return a product if it was damaged during shipping?'\\nresponse: 'If your product was damaged during shipping please contact our customer support team immediately. We will guide you through the return and replacement process.'}\", metadata={'source': \" 'Can I return a product if it was damaged during shipping?'\", 'row': 42}),\n",
       " Document(page_content=\"prompt: 'Can I request a product that is out of stock to be restocked?'\\nresponse: 'We strive to restock popular products whenever possible. Please sign up for product notifications to be informed when the item becomes available again.'}\", metadata={'source': \" 'Can I request a product that is out of stock to be restocked?'\", 'row': 43}),\n",
       " Document(page_content='prompt: \"Can I order a product if it is listed as \\'backordered\\'?\"\\nresponse: \"Products listed as \\'backordered\\' are temporarily out of stock but can still be ordered. Your order will be fulfilled once the product is restocked.\"}', metadata={'source': ' \"Can I order a product if it is listed as \\'backordered\\'?\"', 'row': 44}),\n",
       " Document(page_content=\"prompt: 'Can I return a product if it was purchased during a sale or with a discount?'\\nresponse: 'Yes you can return a product purchased during a sale or with a discount. The refund will be processed based on the amount paid after the discount.'}\", metadata={'source': \" 'Can I return a product if it was purchased during a sale or with a discount?'\", 'row': 45}),\n",
       " Document(page_content=\"prompt: 'Can I request a product repair or replacement if it is damaged?'\\nresponse: 'If you receive a damaged product please contact our customer support team immediately. We will assist you with the necessary steps for repair or replacement.'}\", metadata={'source': \" 'Can I request a product repair or replacement if it is damaged?'\", 'row': 46}),\n",
       " Document(page_content='prompt: \"Can I order a product if it is listed as \\'out of stock\\' but available for pre-order?\"\\nresponse: \\'If a product is available for pre-order you can place an order to secure your item. The product will be shipped once it becomes available.\\'}', metadata={'source': ' \"Can I order a product if it is listed as \\'out of stock\\' but available for pre-order?\"', 'row': 47}),\n",
       " Document(page_content=\"prompt: 'Can I return a product if it was purchased as a gift?'\\nresponse: 'Yes you can return a product purchased as a gift. However refunds will typically be issued to the original payment method used for the purchase.'}\", metadata={'source': \" 'Can I return a product if it was purchased as a gift?'\", 'row': 48}),\n",
       " Document(page_content='prompt: \"Can I request a product if it is listed as \\'discontinued\\'?\"\\nresponse: \"Unfortunately if a product is listed as \\'discontinued it is no longer available for purchase. We recommend exploring alternative products on our website.\"}', metadata={'source': ' \"Can I request a product if it is listed as \\'discontinued\\'?\"', 'row': 49}),\n",
       " Document(page_content='prompt: \"Can I order a product if it is listed as \\'sold out\\'?\"\\nresponse: \"If a product is listed as \\'sold out it is currently unavailable for purchase. Please check back later or sign up for notifications when it becomes available again.\"}', metadata={'source': ' \"Can I order a product if it is listed as \\'sold out\\'?\"', 'row': 50}),\n",
       " Document(page_content=\"prompt: 'Can I return a product if it was purchased with a gift card?'\\nresponse: 'Yes you can return a product purchased with a gift card. The refund will be issued in the form of store credit or a new gift card.'}\", metadata={'source': \" 'Can I return a product if it was purchased with a gift card?'\", 'row': 51}),\n",
       " Document(page_content=\"prompt: 'Can I request a product if it is not currently available in my size?'\\nresponse: 'If a product is not available in your size it may be temporarily out of stock. Please check back later or sign up for size notifications.'}\", metadata={'source': \" 'Can I request a product if it is not currently available in my size?'\", 'row': 52}),\n",
       " Document(page_content='prompt: \"Can I order a product if it is listed as \\'coming soon\\' but available for pre-order?\"\\nresponse: \"If a product is listed as \\'coming soon\\' and available for pre-order you can place an order to secure your item before it becomes available.\"}', metadata={'source': ' \"Can I order a product if it is listed as \\'coming soon\\' but available for pre-order?\"', 'row': 53}),\n",
       " Document(page_content=\"prompt: 'Can I return a product if it was purchased with a discount code?'\\nresponse: 'Yes you can return a product purchased with a discount code. The refund will be processed based on the amount paid after the discount.'}\", metadata={'source': \" 'Can I return a product if it was purchased with a discount code?'\", 'row': 54}),\n",
       " Document(page_content=\"prompt: 'Can I request a custom order or personalized product?'\\nresponse: 'We do not currently offer custom orders or personalized products. Please explore the available products on our website.'}\", metadata={'source': \" 'Can I request a custom order or personalized product?'\", 'row': 55}),\n",
       " Document(page_content='prompt: \"Can I order a product if it is listed as \\'temporarily unavailable\\'?\"\\nresponse: \"If a product is listed as \\'temporarily unavailable it is out of stock but may be restocked in the future. Please check back later or sign up for notifications.\"}', metadata={'source': ' \"Can I order a product if it is listed as \\'temporarily unavailable\\'?\"', 'row': 56}),\n",
       " Document(page_content=\"prompt: 'Can I return a product if it was damaged due to improper use?'\\nresponse: 'Our return policy generally covers products that are defective or damaged upon arrival. Damage due to improper use may not be eligible for a return. Please contact our customer support team for assistance.'}\", metadata={'source': \" 'Can I return a product if it was damaged due to improper use?'\", 'row': 57}),\n",
       " Document(page_content='prompt: \"Can I request a product if it is listed as \\'coming soon\\' but not available for pre-order?\"\\nresponse: \"If a product is listed as \\'coming soon\\' but not available for pre-order you will need to wait until it is officially released and becomes available for purchase.\"}', metadata={'source': ' \"Can I request a product if it is listed as \\'coming soon\\' but not available for pre-order?\"', 'row': 58}),\n",
       " Document(page_content='prompt: \"Can I order a product if it is listed as \\'on hold\\'?\"\\nresponse: \"If a product is listed as \\'on hold it is temporarily unavailable for purchase. Please check back later or sign up for notifications when it becomes available.\"}', metadata={'source': ' \"Can I order a product if it is listed as \\'on hold\\'?\"', 'row': 59}),\n",
       " Document(page_content=\"prompt: 'Can I return a product if I no longer have the original receipt?'\\nresponse: 'While a receipt is preferred for returns we may be able to assist you without it. Please contact our customer support team for further guidance.'}\", metadata={'source': \" 'Can I return a product if I no longer have the original receipt?'\", 'row': 60}),\n",
       " Document(page_content='prompt: \"Can I request a product that is listed as \\'limited edition\\' to be restocked?\"\\nresponse: \\'Once a limited edition product is sold out it may not be restocked. Limited edition items are available for a limited time only so we recommend purchasing them while they are available.\\'}', metadata={'source': ' \"Can I request a product that is listed as \\'limited edition\\' to be restocked?\"', 'row': 61}),\n",
       " Document(page_content='prompt: \"Can I order a product if it is listed as \\'discontinued\\' but still visible on the website?\"\\nresponse: \"If a product is listed as \\'discontinued\\' but still visible on the website it may be an error. Please contact our customer support team for clarification.\"}', metadata={'source': ' \"Can I order a product if it is listed as \\'discontinued\\' but still visible on the website?\"', 'row': 62}),\n",
       " Document(page_content=\"prompt: 'Can I return a product if it was a clearance or final sale item?'\\nresponse: 'Clearance or final sale items are typically non-returnable and non-refundable. Please review the product description or contact our customer support team for more information.'}\", metadata={'source': \" 'Can I return a product if it was a clearance or final sale item?'\", 'row': 63}),\n",
       " Document(page_content=\"prompt: 'Can I request a product if it is not listed on your website?'\\nresponse: 'If a product is not listed on our website it may not be available for purchase. We recommend exploring the available products or contacting our customer support team for further assistance.'}\", metadata={'source': \" 'Can I request a product if it is not listed on your website?'\", 'row': 64}),\n",
       " Document(page_content='prompt: \"Can I order a product if it is listed as \\'out of stock\\' but available for backorder?\"\\nresponse: \"If a product is listed as \\'out of stock\\' but available for backorder you can place an order to secure your item. The product will be shipped once it becomes available.\"}', metadata={'source': ' \"Can I order a product if it is listed as \\'out of stock\\' but available for backorder?\"', 'row': 65}),\n",
       " Document(page_content=\"prompt: 'Can I return a product if it was purchased as part of a bundle or set?'\\nresponse: 'If a product was purchased as part of a bundle or set the return policy may vary. Please refer to the specific terms and conditions or contact our customer support team for further guidance.'}\", metadata={'source': \" 'Can I return a product if it was purchased as part of a bundle or set?'\", 'row': 66}),\n",
       " Document(page_content='prompt: \"Can I request a product that is listed as \\'out of stock\\' to be restocked?\"\\nresponse: \\'We aim to restock popular products whenever possible. Please sign up for product notifications to be alerted when the item becomes available again.\\'}', metadata={'source': ' \"Can I request a product that is listed as \\'out of stock\\' to be restocked?\"', 'row': 67}),\n",
       " Document(page_content='prompt: \"Can I order a product if it is listed as \\'coming soon\\' and available for pre-order?\"\\nresponse: \"If a product is listed as \\'coming soon\\' and available for pre-order you can place an order to secure your item before it becomes available.\"}', metadata={'source': ' \"Can I order a product if it is listed as \\'coming soon\\' and available for pre-order?\"', 'row': 68}),\n",
       " Document(page_content=\"prompt: 'Can I return a product if it was damaged due to mishandling during shipping?'\\nresponse: 'If your product was damaged due to mishandling during shipping please contact our customer support team immediately. We will assist you with the necessary steps for return and replacement.'}\", metadata={'source': \" 'Can I return a product if it was damaged due to mishandling during shipping?'\", 'row': 69}),\n",
       " Document(page_content='prompt: \"Can I request a product that is listed as \\'out of stock\\' to be reserved for me?\"\\nresponse: \\'We do not offer reservations for out-of-stock products. However you can sign up for product notifications to be alerted when the item becomes available again.\\'}', metadata={'source': ' \"Can I request a product that is listed as \\'out of stock\\' to be reserved for me?\"', 'row': 70}),\n",
       " Document(page_content='prompt: \"Can I order a product if it is listed as \\'pre-order\\' but available for backorder?\"\\nresponse: \"If a product is listed as \\'pre-order\\' and available for backorder you can place an order to secure your item. The product will be shipped once it becomes available.\"}', metadata={'source': ' \"Can I order a product if it is listed as \\'pre-order\\' but available for backorder?\"', 'row': 71}),\n",
       " Document(page_content=\"prompt: 'Can I return a product if it was purchased with store credit?'\\nresponse: 'Yes you can return a product purchased with store credit. The refund will be issued in the form of store credit which you can use for future purchases.'}\", metadata={'source': \" 'Can I return a product if it was purchased with store credit?'\", 'row': 72}),\n",
       " Document(page_content=\"prompt: 'Can I request a product that is currently out of stock to be restocked?'\\nresponse: 'We strive to restock popular products whenever possible. Please sign up for product notifications to be informed when the item becomes available again.'}\", metadata={'source': \" 'Can I request a product that is currently out of stock to be restocked?'\", 'row': 73}),\n",
       " Document(page_content='prompt: \"Can I order a product if it is listed as \\'sold out\\' but available for pre-order?\"\\nresponse: \"If a product is listed as \\'sold out\\' but available for pre-order you can place an order to secure your item. The product will be shipped once it becomes available.\"}', metadata={'source': ' \"Can I order a product if it is listed as \\'sold out\\' but available for pre-order?\"', 'row': 74}),\n",
       " Document(page_content=\"prompt: 'Can I return a product if it was purchased with a promotional gift card?'\\nresponse: 'Yes you can return a product purchased with a promotional gift card. The refund will be issued in the form of store credit or a new gift card.'}\", metadata={'source': \" 'Can I return a product if it was purchased with a promotional gift card?'\", 'row': 75}),\n",
       " Document(page_content=\"prompt: 'Can I request a product if it is not currently available in my preferred color?'\\nresponse: 'If a product is not available in your preferred color it may be temporarily out of stock. Please check back later or sign up for color notifications.'}\", metadata={'source': \" 'Can I request a product if it is not currently available in my preferred color?'\", 'row': 76}),\n",
       " Document(page_content='prompt: \"Can I order a product if it is listed as \\'coming soon\\' and not available for pre-order?\"\\nresponse: \"If a product is listed as \\'coming soon\\' but not available for pre-order you will need to wait until it is officially released and becomes available for purchase.\"}', metadata={'source': ' \"Can I order a product if it is listed as \\'coming soon\\' and not available for pre-order?\"', 'row': 77}),\n",
       " Document(page_content=\"prompt: 'Can I return a product if it was purchased during a promotional event?'\\nresponse: 'Yes you can return a product purchased during a promotional event. The refund will be processed based on the amount paid after any applicable discounts.'}\", metadata={'source': \" 'Can I return a product if it was purchased during a promotional event?'\", 'row': 78})]"
      ]
     },
     "execution_count": 7,
     "metadata": {},
     "output_type": "execute_result"
    }
   ],
   "source": [
    "data"
   ]
  },
  {
   "cell_type": "markdown",
   "id": "2513e121-c17e-4bd4-87bb-f84b4f2943ef",
   "metadata": {},
   "source": [
    "Hugging Face Embeddings"
   ]
  },
  {
   "cell_type": "code",
   "execution_count": 8,
   "id": "41e998f7-a136-45eb-aa49-351418d8ff34",
   "metadata": {},
   "outputs": [
    {
     "name": "stdout",
     "output_type": "stream",
     "text": [
      "load INSTRUCTOR_Transformer\n",
      "max_seq_length  512\n"
     ]
    }
   ],
   "source": [
    "from langchain.embeddings import HuggingFaceInstructEmbeddings\n",
    "\n",
    "# Initialize instructor embeddings using the Hugging Face model\n",
    "instructor_embeddings = HuggingFaceInstructEmbeddings(model_name=\"hkunlp/instructor-large\")\n",
    "\n",
    "e = instructor_embeddings.embed_query(\"Can I return a product if I changed my mind?\")\n"
   ]
  },
  {
   "cell_type": "code",
   "execution_count": 6,
   "id": "470e90b5-3f4e-428b-807e-dec3184cfa25",
   "metadata": {},
   "outputs": [
    {
     "data": {
      "text/plain": [
       "[-0.043898072093725204,\n",
       " 0.00768554350361228,\n",
       " -0.009231901727616787,\n",
       " 0.02449624426662922,\n",
       " 0.03359228000044823]"
      ]
     },
     "execution_count": 6,
     "metadata": {},
     "output_type": "execute_result"
    }
   ],
   "source": [
    "e[:5]"
   ]
  },
  {
   "cell_type": "code",
   "execution_count": 9,
   "id": "6fa14bfd-bf76-4005-b6cf-a0fa1f8e4d26",
   "metadata": {},
   "outputs": [
    {
     "data": {
      "text/plain": [
       "768"
      ]
     },
     "execution_count": 9,
     "metadata": {},
     "output_type": "execute_result"
    }
   ],
   "source": [
    "len(e)"
   ]
  },
  {
   "cell_type": "markdown",
   "id": "a0079fd5-8818-4ce9-b75b-adce76ded141",
   "metadata": {},
   "source": [
    "As you can see above, embedding for a sentance \"Can I return a product if I changed my mind\" is a list of size 768. Looking at the numbers in this list, doesn't give any intuitive understanding of what it is but just assume that these numbers are capturing the meaning of \"What is your refund policy\". If you are curious to know about embeddings, go to youtube and search \"codebasics word embeddings\" and you will find bunch of videos with simple, intuitive explanations"
   ]
  },
  {
   "cell_type": "markdown",
   "id": "09631300-a5be-434f-9f13-47e4153ccae7",
   "metadata": {},
   "source": [
    "Vector store using FAISS"
   ]
  },
  {
   "cell_type": "code",
   "execution_count": 10,
   "id": "7e36fdd3-c72b-42a0-b1ca-f4da67bcdbff",
   "metadata": {},
   "outputs": [],
   "source": [
    "from langchain.vectorstores import FAISS\n",
    "\n",
    "# Create a FAISS instance for vector database from 'data'\n",
    "vectordb = FAISS.from_documents(documents=data,\n",
    "                                 embedding=instructor_embeddings)\n",
    "\n",
    "# Create a retriever for querying the vector database\n",
    "retriever = vectordb.as_retriever(score_threshold = 0.7)"
   ]
  },
  {
   "cell_type": "code",
   "execution_count": 11,
   "id": "b4837b74-c55d-4416-9cbf-1184e8bf8dea",
   "metadata": {},
   "outputs": [
    {
     "data": {
      "text/plain": [
       "[Document(page_content=\"prompt: 'How can I contact customer support?'\\nresponse: 'You can contact our customer support team by phone at [phone number] or by email at [email address]. Our team is available [working hours] to assist you with any inquiries or issues you may have.'}\", metadata={'source': \" 'How can I contact customer support?'\", 'row': 9}),\n",
       " Document(page_content=\"prompt: 'Do you offer installation services for your products?'\\nresponse: 'Installation services are available for select products. Please check the product description or contact our customer support team for more information and to request installation services.'}\", metadata={'source': \" 'Do you offer installation services for your products?'\", 'row': 30}),\n",
       " Document(page_content='prompt: \"Can I order a product if it is listed as \\'out of stock\\' but available for pre-order?\"\\nresponse: \\'If a product is available for pre-order you can place an order to secure your item. The product will be shipped once it becomes available.\\'}', metadata={'source': ' \"Can I order a product if it is listed as \\'out of stock\\' but available for pre-order?\"', 'row': 47}),\n",
       " Document(page_content='prompt: \"Can I order a product if it is listed as \\'pre-order\\' but available for backorder?\"\\nresponse: \"If a product is listed as \\'pre-order\\' and available for backorder you can place an order to secure your item. The product will be shipped once it becomes available.\"}', metadata={'source': ' \"Can I order a product if it is listed as \\'pre-order\\' but available for backorder?\"', 'row': 71})]"
      ]
     },
     "execution_count": 11,
     "metadata": {},
     "output_type": "execute_result"
    }
   ],
   "source": [
    "rdocs = retriever.get_relevant_documents(\"how about job placement support?\")\n",
    "rdocs"
   ]
  },
  {
   "cell_type": "markdown",
   "id": "7ce328a6-d574-4d8a-8c47-0d1771944ebd",
   "metadata": {},
   "source": [
    "As you can see above, the retriever that was created using FAISS and hugging face embedding is now capable of pulling relavant documents from our original CSV file knowledge store. This is very powerful and it will help us further in our project"
   ]
  },
  {
   "cell_type": "markdown",
   "id": "d2c6b501-7ab2-479c-af7b-e1eabee33834",
   "metadata": {},
   "source": [
    "Create RetrievalQA chain along with prompt template 🚀"
   ]
  },
  {
   "cell_type": "code",
   "execution_count": 12,
   "id": "15fc3b38-2cf9-4301-b961-a9d99bd4ce29",
   "metadata": {},
   "outputs": [],
   "source": [
    "\n",
    "from langchain.prompts import PromptTemplate\n",
    "\n",
    "prompt_template = \"\"\"Given the following context and a question, generate an answer based on this context only.\n",
    "In the answer try to provide as much text as possible from \"response\" section in the source document context without making much changes.\n",
    "If the answer is not found in the context, kindly state \"I don't know.\" Don't try to make up an answer.\n",
    "\n",
    "CONTEXT: {context}\n",
    "\n",
    "QUESTION: {question}\"\"\"\n",
    "\n",
    "\n",
    "PROMPT = PromptTemplate(\n",
    "    template=prompt_template, input_variables=[\"context\", \"question\"]\n",
    ")\n",
    "chain_type_kwargs = {\"prompt\": PROMPT}\n",
    "\n",
    "\n",
    "from langchain.chains import RetrievalQA\n",
    "\n",
    "chain = RetrievalQA.from_chain_type(llm=llm,\n",
    "                            chain_type=\"stuff\",\n",
    "                            retriever=retriever,\n",
    "                            input_key=\"query\",\n",
    "                            return_source_documents=True,\n",
    "                            chain_type_kwargs=chain_type_kwargs)"
   ]
  },
  {
   "cell_type": "code",
   "execution_count": 13,
   "id": "21c830ec-62ff-474a-b95d-d7de1dad1a91",
   "metadata": {},
   "outputs": [
    {
     "data": {
      "text/plain": [
       "{'query': 'I return a product if it was purchased with a promotional gift card?',\n",
       " 'result': 'Yes you can return a product purchased with a promotional gift card. The refund will be issued in the form of store credit or a new gift card.',\n",
       " 'source_documents': [Document(page_content=\"prompt: 'Can I return a product if it was purchased with a promotional gift card?'\\nresponse: 'Yes you can return a product purchased with a promotional gift card. The refund will be issued in the form of store credit or a new gift card.'}\", metadata={'source': \" 'Can I return a product if it was purchased with a promotional gift card?'\", 'row': 75}),\n",
       "  Document(page_content=\"prompt: 'Can I return a product if it was purchased with a gift card?'\\nresponse: 'Yes you can return a product purchased with a gift card. The refund will be issued in the form of store credit or a new gift card.'}\", metadata={'source': \" 'Can I return a product if it was purchased with a gift card?'\", 'row': 51}),\n",
       "  Document(page_content=\"prompt: 'Can I return a product if it was purchased as a gift?'\\nresponse: 'Yes you can return a product purchased as a gift. However refunds will typically be issued to the original payment method used for the purchase.'}\", metadata={'source': \" 'Can I return a product if it was purchased as a gift?'\", 'row': 48}),\n",
       "  Document(page_content=\"prompt: 'Can I return a product if it was purchased during a promotional event?'\\nresponse: 'Yes you can return a product purchased during a promotional event. The refund will be processed based on the amount paid after any applicable discounts.'}\", metadata={'source': \" 'Can I return a product if it was purchased during a promotional event?'\", 'row': 78})]}"
      ]
     },
     "execution_count": 13,
     "metadata": {},
     "output_type": "execute_result"
    }
   ],
   "source": [
    "chain('I return a product if it was purchased with a promotional gift card?')"
   ]
  },
  {
   "cell_type": "code",
   "execution_count": 14,
   "id": "89271e70-f78b-42f5-8262-c078860d2c9b",
   "metadata": {},
   "outputs": [
    {
     "data": {
      "text/plain": [
       "{'query': 'do you have javascript course?',\n",
       " 'result': \"I don't know.\",\n",
       " 'source_documents': [Document(page_content='prompt: \\'How can I create an account?\\'\\nresponse: \"To create an account click on the \\'Sign Up\\' button on the top right corner of our website and follow the instructions to complete the registration process.\"}', metadata={'source': \" 'How can I create an account?'\", 'row': 0}),\n",
       "  Document(page_content=\"prompt: 'Do you have a loyalty program?'\\nresponse: 'Yes we have a loyalty program where you can earn points for every purchase. These points can be redeemed for discounts on future orders. Please visit our website to learn more and join the program.'}\", metadata={'source': \" 'Do you have a loyalty program?'\", 'row': 15}),\n",
       "  Document(page_content=\"prompt: 'Can I order a product that is out of stock?'\\nresponse: 'If a product is currently out of stock you will usually see an option to sign up for product notifications. This way you will be alerted when the product becomes available again.'}\", metadata={'source': \" 'Can I order a product that is out of stock?'\", 'row': 23}),\n",
       "  Document(page_content=\"prompt: 'Can I request a product if it is not currently available in my preferred color?'\\nresponse: 'If a product is not available in your preferred color it may be temporarily out of stock. Please check back later or sign up for color notifications.'}\", metadata={'source': \" 'Can I request a product if it is not currently available in my preferred color?'\", 'row': 76})]}"
      ]
     },
     "execution_count": 14,
     "metadata": {},
     "output_type": "execute_result"
    }
   ],
   "source": [
    "chain(\"do you have javascript course?\")"
   ]
  },
  {
   "cell_type": "code",
   "execution_count": 16,
   "id": "a1fcf47b-46cc-4c38-9388-c80315d17bb9",
   "metadata": {},
   "outputs": [
    {
     "data": {
      "text/plain": [
       "{'query': 'Can I order a product if it is listed as backordered?',\n",
       " 'result': \"Products listed as 'backordered' are temporarily out of stock but can still be ordered. Your order will be fulfilled once the product is restocked.\",\n",
       " 'source_documents': [Document(page_content='prompt: \"Can I order a product if it is listed as \\'backordered\\'?\"\\nresponse: \"Products listed as \\'backordered\\' are temporarily out of stock but can still be ordered. Your order will be fulfilled once the product is restocked.\"}', metadata={'source': ' \"Can I order a product if it is listed as \\'backordered\\'?\"', 'row': 44}),\n",
       "  Document(page_content='prompt: \"Can I order a product if it is listed as \\'out of stock\\' but available for backorder?\"\\nresponse: \"If a product is listed as \\'out of stock\\' but available for backorder you can place an order to secure your item. The product will be shipped once it becomes available.\"}', metadata={'source': ' \"Can I order a product if it is listed as \\'out of stock\\' but available for backorder?\"', 'row': 65}),\n",
       "  Document(page_content='prompt: \"Can I order a product if it is listed as \\'pre-order\\' but available for backorder?\"\\nresponse: \"If a product is listed as \\'pre-order\\' and available for backorder you can place an order to secure your item. The product will be shipped once it becomes available.\"}', metadata={'source': ' \"Can I order a product if it is listed as \\'pre-order\\' but available for backorder?\"', 'row': 71}),\n",
       "  Document(page_content='prompt: \"Can I order a product if it is listed as \\'out of stock\\' but available for pre-order?\"\\nresponse: \\'If a product is available for pre-order you can place an order to secure your item. The product will be shipped once it becomes available.\\'}', metadata={'source': ' \"Can I order a product if it is listed as \\'out of stock\\' but available for pre-order?\"', 'row': 47})]}"
      ]
     },
     "execution_count": 16,
     "metadata": {},
     "output_type": "execute_result"
    }
   ],
   "source": [
    "chain(\"Can I order a product if it is listed as backordered?\")"
   ]
  }
 ],
 "metadata": {
  "kernelspec": {
   "display_name": "Python 3 (ipykernel)",
   "language": "python",
   "name": "python3"
  },
  "language_info": {
   "codemirror_mode": {
    "name": "ipython",
    "version": 3
   },
   "file_extension": ".py",
   "mimetype": "text/x-python",
   "name": "python",
   "nbconvert_exporter": "python",
   "pygments_lexer": "ipython3",
   "version": "3.11.7"
  }
 },
 "nbformat": 4,
 "nbformat_minor": 5
}
